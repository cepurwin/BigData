{
 "cells": [
  {
   "cell_type": "code",
   "execution_count": null,
   "id": "initial_id",
   "metadata": {
    "collapsed": true
   },
   "outputs": [],
   "source": [
    "import filterServices\n",
    "import H5toDataframe as readH5\n",
    "import outlierServices\n",
    "import clusterServices\n",
    "\n",
    "# H5 Dateien einlesen\n",
    "all_dataframes = readH5.convertAllH5Files()\n",
    "\n",
    "# Easteregg rows entfernen\n",
    "all_dataframes = filterServices.filterEasterEggs(all_dataframes)\n",
    "\n",
    "# Übrige strings in floats konvertieren\n",
    "all_dataframes = filterServices.convert_all_strings_to_floats(all_dataframes)\n",
    "\n",
    "# Timestamp outlier entfernen\n",
    "all_dataframes = outlierServices.removeOutliersTurkeysMethod_withMean(all_dataframes, 'timestamp')\n",
    "\n",
    "# wall_thickness outlier entfernen\n",
    "all_dataframes = outlierServices.removeOutliersTurkeysMethod_withForwardAndBackFill(all_dataframes, 'wall_thickness')\n",
    "\n",
    "# NaN Werte rausfiltern\n",
    "all_dataframes = filterServices.replace_nan_with_avg_of_neighbors(all_dataframes, 'wall_thickness')\n",
    "\n",
    "# cluster Bestimmen, durch Mittelwert ersetzen und letzte Outlier rausfiltern\n",
    "all_dataframes = clusterServices.clusterWallThicknessAndCalculateMean(all_dataframes)\n"
   ]
  },
  {
   "cell_type": "code",
   "outputs": [],
   "source": [
    "for name, (df, attrs) in all_dataframes.items():\n",
    "    print(df.head())"
   ],
   "metadata": {
    "collapsed": false
   },
   "id": "362d7477aaf542d7",
   "execution_count": null
  },
  {
   "cell_type": "code",
   "outputs": [],
   "source": [
    "import influxServices\n",
    "\n",
    "influxServices.upload_dict_with_frames(all_dataframes, 'bucket9')"
   ],
   "metadata": {
    "collapsed": false
   },
   "id": "45c120a307e4fc59",
   "execution_count": null
  },
  {
   "cell_type": "markdown",
   "source": [
    "# Test DBSCAN"
   ],
   "metadata": {
    "collapsed": false
   },
   "id": "2f997d73fccd2325"
  },
  {
   "cell_type": "code",
   "outputs": [],
   "source": [
    "from sklearn.cluster import DBSCAN\n",
    "import pandas as pd\n",
    "import matplotlib.pyplot as plt\n",
    "from sklearn.preprocessing import StandardScaler\n",
    "import numpy as np\n",
    "from sklearn.metrics import pairwise_distances_argmin_min\n",
    "\n",
    "for name, (df, attrs) in all_dataframes.items():\n",
    "    # timestamp von timestamp zu UNIX\n",
    "    df['timestamp'] = pd.to_datetime(df['timestamp'], format=\"%Y-%m-%dT%H:%M:%S\").astype('int64') // 10 ** 9\n",
    "    print(f\"Verarbeitung von {name}...\")\n",
    "    # Annahme: 'timestamp' und 'wall_thickness' sind die benötigten Spalten\n",
    "    filteredDf = pd.DataFrame({\n",
    "        'timestamp_unix': df['timestamp'],\n",
    "        'wall_thickness': df['wall_thickness']\n",
    "    })\n",
    "\n",
    "    # Daten vorbereiten\n",
    "    X = filteredDf[['timestamp_unix', 'wall_thickness']].values\n",
    "\n",
    "    # Standardisieren der Daten\n",
    "    scaler = StandardScaler()\n",
    "    X_scaled = scaler.fit_transform(X)\n",
    "\n",
    "    # DBSCAN Anwendung\n",
    "    dbscan = DBSCAN(eps=0.4, min_samples=10)\n",
    "    labels = dbscan.fit_predict(X_scaled)\n",
    "\n",
    "    # Wiederherstellen der ursprünglichen Daten, falls benötigt\n",
    "    X_restored = scaler.inverse_transform(X_scaled)\n",
    "\n",
    "    # Ergebnisse speichern\n",
    "    filteredDf['cluster'] = labels\n",
    "    filteredDf['wall_thickness_scaled'] = X_restored[:, 1]\n",
    "\n",
    "    # Durchschnittliche Wandstärke für jedes Cluster berechnen\n",
    "    cluster_means = {}\n",
    "    for cluster in np.unique(labels):\n",
    "        if cluster != -1: # Nicht Ausreißer berücksichtigen\n",
    "            cluster_mean = filteredDf.loc[filteredDf['cluster'] == cluster, 'wall_thickness'].mean()\n",
    "            cluster_means[cluster] = cluster_mean\n",
    "\n",
    "    # Wandstärke aktualisieren\n",
    "    for cluster in filteredDf['cluster'].unique():\n",
    "        if cluster != -1:  # Nicht Ausreißer berücksichtigen\n",
    "            filteredDf.loc[filteredDf['cluster'] == cluster, 'wall_thickness'] = cluster_means[cluster]\n",
    "\n",
    "    # Ausreißer behandeln\n",
    "    if -1 in labels:\n",
    "        outliers_indices = filteredDf[filteredDf['cluster'] == -1].index\n",
    "        core_samples_mask = labels != -1\n",
    "        core_samples = X_scaled[core_samples_mask]\n",
    "        outlier_samples = X_scaled[~core_samples_mask]\n",
    "        closest_cores_indices, _ = pairwise_distances_argmin_min(outlier_samples, core_samples)\n",
    "        closest_clusters = labels[core_samples_mask][closest_cores_indices]\n",
    "\n",
    "        for outlier_idx, closest_cluster in zip(outliers_indices, closest_clusters):\n",
    "            filteredDf.at[outlier_idx, 'wall_thickness'] = cluster_means[closest_cluster]\n",
    "\n",
    "    # timestamp zurück zu timestamp konvertieren\n",
    "    df['timestamp'] = pd.to_datetime(df['timestamp'], unit='s').dt.strftime(\"%Y-%m-%dT%H:%M:%S\")\n",
    "    \n",
    "    # Ergebnis aktualisieren im ursprünglichen DataFrame\n",
    "    df.update(filteredDf[['wall_thickness']])\n",
    "    print(\"done\")\n",
    "\n",
    "    # Optional: Visualisierung hier kommentieren oder aktivieren\n",
    "    # plt.figure(figsize=(10, 6))\n",
    "    # plt.scatter(filteredDf['timestamp_unix'], filteredDf['wall_thickness'], c=filteredDf['cluster'], cmap='tab10', s=20)\n",
    "    # plt.title(f'DBSCAN Clustering für {name}')\n",
    "    # plt.xlabel('Unix-Timestamp')\n",
    "    # plt.ylabel('Wall Thickness (aktualisiert)')\n",
    "    # plt.show()\n"
   ],
   "metadata": {
    "collapsed": false
   },
   "id": "34734d4fee252e0",
   "execution_count": null
  }
 ],
 "metadata": {
  "kernelspec": {
   "display_name": "Python 3",
   "language": "python",
   "name": "python3"
  },
  "language_info": {
   "codemirror_mode": {
    "name": "ipython",
    "version": 2
   },
   "file_extension": ".py",
   "mimetype": "text/x-python",
   "name": "python",
   "nbconvert_exporter": "python",
   "pygments_lexer": "ipython2",
   "version": "2.7.6"
  }
 },
 "nbformat": 4,
 "nbformat_minor": 5
}
