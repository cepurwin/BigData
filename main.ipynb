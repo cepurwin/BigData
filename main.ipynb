{
 "cells": [
  {
   "cell_type": "code",
   "execution_count": null,
   "id": "initial_id",
   "metadata": {
    "collapsed": true
   },
   "outputs": [],
   "source": [
    "import filterServices\n",
    "import H5toDataframe as readH5\n",
    "import outlierServices\n",
    "import clusterServices\n",
    "import linRegServices\n",
    "import conversionServices as convServices\n",
    "\n",
    "# H5 Dateien einlesen\n",
    "all_dataframes = readH5.convertAllH5Files()\n",
    "\n",
    "# Easteregg rows entfernen\n",
    "all_dataframes = filterServices.filterEasterEggs(all_dataframes)\n",
    "\n",
    "# Übrige strings in floats konvertieren\n",
    "all_dataframes = convServices.convert_all_strings_to_floats(all_dataframes)\n",
    "\n",
    "# Timestamp outlier entfernen\n",
    "all_dataframes = outlierServices.removeOutliersTurkeysMethod_withMean(all_dataframes, 'timestamp')\n",
    "\n",
    "# Berechnen der fehlenden Velocity Werte\n",
    "all_dataframes = convServices.calculate_velocity_conditionally(all_dataframes)\n",
    "\n",
    "# wall_thickness outlier entfernen\n",
    "all_dataframes = outlierServices.removeOutliersTurkeysMethod_withForwardAndBackFill(all_dataframes, 'wall_thickness')\n",
    "\n",
    "# NaN Werte rausfiltern\n",
    "all_dataframes = filterServices.replace_nan_with_avg_of_neighbors(all_dataframes, 'wall_thickness')\n",
    "all_dataframes = filterServices.replace_nan_with_avg_of_neighbors(all_dataframes, 'magnetization')\n",
    "\n",
    "# wall_thickness cluster Bestimmen, durch Mittelwert ersetzen und letzte Outlier rausfiltern\n",
    "all_dataframes = clusterServices.clusterWallThicknessAndCalculateMean(all_dataframes)\n",
    "\n",
    "# Abnutzung der magnetization mittels linearer Regression rausrechnen\n",
    "all_dataframes = linRegServices.clean_magnetization_with_linReg(all_dataframes)\n"
   ]
  },
  {
   "cell_type": "code",
   "outputs": [],
   "source": [
    "for name, (df, attrs) in all_dataframes.items():\n",
    "    print(df.head())"
   ],
   "metadata": {
    "collapsed": false
   },
   "id": "362d7477aaf542d7",
   "execution_count": null
  },
  {
   "cell_type": "markdown",
   "source": [
    "# Upload to Influx"
   ],
   "metadata": {
    "collapsed": false
   },
   "id": "e4a932a05d2bac20"
  },
  {
   "cell_type": "code",
   "outputs": [],
   "source": [
    "import influxServices\n",
    "\n",
    "influxServices.upload_dict_with_frames(all_dataframes, 'bucket11')"
   ],
   "metadata": {
    "collapsed": false
   },
   "id": "352c4e9a6dcf7b9e"
  }
 ],
 "metadata": {
  "kernelspec": {
   "display_name": "Python 3",
   "language": "python",
   "name": "python3"
  },
  "language_info": {
   "codemirror_mode": {
    "name": "ipython",
    "version": 2
   },
   "file_extension": ".py",
   "mimetype": "text/x-python",
   "name": "python",
   "nbconvert_exporter": "python",
   "pygments_lexer": "ipython2",
   "version": "2.7.6"
  }
 },
 "nbformat": 4,
 "nbformat_minor": 5
}
