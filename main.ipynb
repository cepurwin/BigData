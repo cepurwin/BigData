{
 "cells": [
  {
   "cell_type": "code",
   "execution_count": null,
   "id": "initial_id",
   "metadata": {
    "collapsed": true
   },
   "outputs": [],
   "source": [
    "from filterServices import filterEasterEggs\n",
    "import H5toDataframe as readH5\n",
    "import outlierServices\n",
    "\n",
    "# H5 Dateien einlesen\n",
    "all_dataframes = readH5.convertAllH5Files()\n",
    "\n",
    "# Easteregg rows entfernen\n",
    "all_dataframes = filterEasterEggs(all_dataframes)\n",
    "\n",
    "# Timestamp outlier entfernen\n",
    "all_dataframes = outlierServices.removeOutliersTurkeysMethod(all_dataframes)"
   ]
  },
  {
   "cell_type": "code",
   "outputs": [],
   "source": [
    "for name, (df, attrs) in all_dataframes.items():\n",
    "    print(df.keys())"
   ],
   "metadata": {
    "collapsed": false
   },
   "id": "362d7477aaf542d7",
   "execution_count": null
  },
  {
   "cell_type": "code",
   "outputs": [],
   "source": [
    "import influxServices\n",
    "\n",
    "influxServices.upload_dict_with_frames(all_dataframes, 'bucket6')"
   ],
   "metadata": {
    "collapsed": false
   },
   "id": "45c120a307e4fc59",
   "execution_count": null
  },
  {
   "cell_type": "markdown",
   "source": [
    "# Magnetization zu wall_thickness graph"
   ],
   "metadata": {
    "collapsed": false
   },
   "id": "2f997d73fccd2325"
  },
  {
   "cell_type": "code",
   "outputs": [],
   "source": [
    "import seaborn as sns\n",
    "import matplotlib.pyplot as plt\n",
    "import numpy as np\n",
    "import pandas as pd\n",
    "import plotly.express as px\n",
    "\n",
    "def filter_valid_floats(arr):\n",
    "    filtered_arr = []\n",
    "\n",
    "    for value in arr:\n",
    "        try:\n",
    "            float_value = float(value)\n",
    "            filtered_arr.append(float_value)\n",
    "        except ValueError:\n",
    "            # Wert konnte nicht in float konvertiert werden, wird ignoriert\n",
    "            pass\n",
    "\n",
    "    return filtered_arr\n",
    "\n",
    "# influx_dataframes = filterEasterEggs(influx_dataframes)\n",
    "\n",
    "# Daten sammeln\n",
    "magnetization_values = []\n",
    "wall_thickness_values = []\n",
    "\n",
    "for name, (df, attrs) in all_dataframes.items():\n",
    "    if 'magnetization' in df.columns and 'wall_thickness' in df.columns:\n",
    "        nan_magnetization = df.loc[df['magnetization'].isnull(), 'magnetization']\n",
    "        nan_wall_thickness = df.loc[df['wall_thickness'].isnull(), 'wall_thickness']\n",
    "\n",
    "        # if not nan_magnetization.empty:\n",
    "        #     print(f\"NaN in Magnetization in DataFrame {name}: {nan_magnetization}\")\n",
    "        # if not nan_wall_thickness.empty:\n",
    "        #     print(f\"NaN in wall_thickness in DataFrame {name}: {nan_wall_thickness}\")\n",
    "\n",
    "        # Entferne NaN-Werte, bevor du die Werte der Listen hinzufügst\n",
    "        magnetization_values.extend(df['magnetization'].dropna())\n",
    "        wall_thickness_values.extend(df['wall_thickness'].dropna())\n",
    "\n",
    "wall_thickness_values = wall_thickness_values[:-246]\n",
    "\n",
    "magnetization_values = filter_valid_floats(magnetization_values)\n",
    "wall_thickness_values = filter_valid_floats(wall_thickness_values)\n",
    "\n",
    "print(f'Länge Magnetization: {len(magnetization_values)}')\n",
    "print(f'Länge wall_thickness: {len(wall_thickness_values)}')\n",
    "\n",
    "# DataFrame erstellen\n",
    "data = {'magnetization': magnetization_values, 'wall_thickness': wall_thickness_values}\n",
    "merged_df = pd.DataFrame(data, dtype=np.float64)\n",
    "\n",
    "# Seaborn-Plot erstellen\n",
    "sns.scatterplot(x='wall_thickness', y='magnetization', data=merged_df)\n",
    "plt.title('Magnetization vs. Wall Thickness')\n",
    "plt.show()"
   ],
   "metadata": {
    "collapsed": false
   },
   "id": "34734d4fee252e0",
   "execution_count": null
  }
 ],
 "metadata": {
  "kernelspec": {
   "display_name": "Python 3",
   "language": "python",
   "name": "python3"
  },
  "language_info": {
   "codemirror_mode": {
    "name": "ipython",
    "version": 2
   },
   "file_extension": ".py",
   "mimetype": "text/x-python",
   "name": "python",
   "nbconvert_exporter": "python",
   "pygments_lexer": "ipython2",
   "version": "2.7.6"
  }
 },
 "nbformat": 4,
 "nbformat_minor": 5
}
