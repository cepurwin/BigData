{
 "cells": [
  {
   "cell_type": "code",
   "outputs": [],
   "source": [
    "import h5py\n",
    "import os\n",
    "import pandas as pd\n",
    "import numpy as np\n",
    "from filterServices import filterEasterEggs\n",
    "import H5toDataframe as readH5"
   ],
   "metadata": {
    "collapsed": false
   },
   "id": "56b5a8b2947f9d49",
   "execution_count": null
  },
  {
   "cell_type": "markdown",
   "source": [
    "## Dateien in Pandas Dataframe schreiben (und velocity berechnen)"
   ],
   "metadata": {
    "collapsed": false
   },
   "id": "c053f87880610890"
  },
  {
   "cell_type": "code",
   "outputs": [],
   "source": [
    "all_dataframes = {}\n",
    "for file_name in os.listdir('datasetsRosen'):\n",
    "    if file_name.endswith('.h5'):\n",
    "        file_path = os.path.join('datasetsRosen', file_name)\n",
    "        frame, frame_attrs = readH5.read_hdf5(file_path)\n",
    "        if frame is not None:\n",
    "            all_dataframes[file_name] = (frame, frame_attrs)\n",
    "print(len(all_dataframes))"
   ],
   "metadata": {
    "collapsed": false
   },
   "id": "788b8f3931b61528",
   "execution_count": null
  },
  {
   "cell_type": "code",
   "outputs": [],
   "source": [
    "velocityMissingCount = 0\n",
    "for name, (df, attrs) in all_dataframes.items():\n",
    "    if not hasattr(df, 'velocity'):\n",
    "       velocityMissingCount += 1\n",
    "    else: \n",
    "        print(f\"{name}: DataFrame Shape: {df.shape}, Attributes: {attrs}\")\n",
    "        print(\"First 5 lines of the columns:\")\n",
    "        # print(df[['velocity', 'defect_channel', 'distance', 'magnetization', 'timestamp', 'wall_thickness']].head())\n",
    "        print(df.head())\n",
    "        print(\"\\n\")\n",
    "print(f'Fehlende Velocity Werte: {velocityMissingCount}')"
   ],
   "metadata": {
    "collapsed": false
   },
   "id": "b73113246ad3b2ec",
   "execution_count": null
  },
  {
   "cell_type": "markdown",
   "source": [
    "# Datenüberprüfung\n",
    "\n",
    "## Welche Konfigurationen und Instrumente gibt es in den Datensätzen?"
   ],
   "metadata": {
    "collapsed": false
   },
   "id": "808cf18da2eecff"
  },
  {
   "cell_type": "code",
   "outputs": [],
   "source": [
    "confs_directory = 'datasetsRosen'\n",
    "configurations = []\n",
    "instruments = []\n",
    "configAmount = 0\n",
    "instAmount = 0\n",
    "\n",
    "for idx, filename in enumerate(os.listdir(confs_directory)):\n",
    "    file = h5py.File(confs_directory + '/' + filename)\n",
    "    if 'data' in file:\n",
    "        configName = file['data'].attrs['configuration']\n",
    "        if file['data'].attrs['configuration']:\n",
    "            configAmount += 1\n",
    "        instrumentName = file['data'].attrs['instrument']\n",
    "        if file['data'].attrs['instrument']:\n",
    "            instAmount += 1\n",
    "        if all(configName not in x for x in configurations):\n",
    "            configurations.append(configName)\n",
    "        if all(instrumentName not in x for x in instruments):\n",
    "            instruments.append(instrumentName)\n",
    "    if 'Daten' in file:\n",
    "        configName = file['Daten'].attrs['configuration']\n",
    "        if file['Daten'].attrs['configuration']:\n",
    "            configAmount += 1\n",
    "        instrumentName = file['Daten'].attrs['instrument']\n",
    "        if file['Daten'].attrs['instrument']:\n",
    "            instAmount += 1\n",
    "        if all(configName not in x for x in configurations):\n",
    "            configurations.append(configName)\n",
    "        if all(instrumentName not in x for x in instruments):\n",
    "            instruments.append(instrumentName)\n",
    "\n",
    "print(f'Menge an Configurations: {configAmount}')\n",
    "print('Configurations: ', configurations)\n",
    "print(f'Menge an Instruments: {instAmount}')\n",
    "print('Instruments: ', instruments)"
   ],
   "metadata": {
    "collapsed": false
   },
   "id": "7a2895e8f00f5b23",
   "execution_count": null
  },
  {
   "cell_type": "markdown",
   "source": [
    "## Wie viele falsche / fehlende Datensätze gibt es?\n",
    "\n",
    "Prüft auf: \n",
    "    Negative Werte,\n",
    "    Fehlende Datensätze / Falsche Key Bezeichnung"
   ],
   "metadata": {
    "collapsed": false
   },
   "id": "d1562b845253cd3f"
  },
  {
   "cell_type": "code",
   "outputs": [],
   "source": [
    "directory = 'datasetsRosen'\n",
    "datasets = []\n",
    "\n",
    "for filename in os.listdir(directory):\n",
    "    file = h5py.File(directory + '/' + filename)\n",
    "    for key in file.keys():\n",
    "        datasets.append(file[key])\n",
    "\n",
    "print(f'{len(datasets)} Datensätze erfolgreich in datasets-Array eingelesen')\n",
    "\n",
    "\n",
    "# defect_channel, distance, magnetization, timestamp, velocity, wall_thickness\n",
    "attribute = (\"distance\"\n",
    "             \"\") # attribute ersetzen um verschiedene Attribute zu testen\n",
    "count_negativeValue = 0\n",
    "negativeValuesIdx = []\n",
    "count_noDataset = 0\n",
    "noDatasetIdx = []\n",
    "eastereggCount = 0\n",
    "\n",
    "for idx, dataset in enumerate(datasets):\n",
    "    # print(dataset[attribute][...])\n",
    "    if attribute in dataset:\n",
    "        if b'Easteregg :)' not in dataset[attribute][...]:\n",
    "            velocity_data = dataset[attribute][...].astype(float)\n",
    "            if (velocity_data < 0).any():\n",
    "                count_negativeValue += 1\n",
    "                negativeValuesIdx.append(idx)\n",
    "        else:\n",
    "            eastereggCount += 1\n",
    "    else:\n",
    "        count_noDataset += 1\n",
    "        noDatasetIdx.append(idx)\n",
    "        \n",
    "print(f\"---------------------------------------------- {attribute} Analyse ----------------------------------------------\")\n",
    "print(f\"Anzahl negative Werte: {count_negativeValue}\\n Indizes: {negativeValuesIdx}\\n\")\n",
    "print(f\"Anzahl fehlender {attribute} Datensätze: {count_noDataset}\\n Indizes: {noDatasetIdx}\")\n",
    "print(\"--------------------------------------------------------------------------------------------------------------\")\n",
    "print(f\"Anzahl Eastereggs: {eastereggCount}\")\n",
    "print(datasets[242].keys())"
   ],
   "metadata": {
    "collapsed": false
   },
   "id": "6309c04332ea3cb",
   "execution_count": null
  }
 ],
 "metadata": {
  "kernelspec": {
   "display_name": "Python 3",
   "language": "python",
   "name": "python3"
  },
  "language_info": {
   "codemirror_mode": {
    "name": "ipython",
    "version": 2
   },
   "file_extension": ".py",
   "mimetype": "text/x-python",
   "name": "python",
   "nbconvert_exporter": "python",
   "pygments_lexer": "ipython2",
   "version": "2.7.6"
  }
 },
 "nbformat": 4,
 "nbformat_minor": 5
}
