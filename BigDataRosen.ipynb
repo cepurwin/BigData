{
 "cells": [
  {
   "cell_type": "code",
   "outputs": [],
   "source": [
    "import h5py\n",
    "import os\n",
    "import pandas as pd\n",
    "import numpy as np\n",
    "from filterServices import filterEasterEggs\n",
    "import H5toDataframe as readH5"
   ],
   "metadata": {
    "collapsed": false
   },
   "id": "56b5a8b2947f9d49",
   "execution_count": null
  },
  {
   "cell_type": "markdown",
   "source": [
    "## Dateien in Pandas Dataframe schreiben (und velocity berechnen)"
   ],
   "metadata": {
    "collapsed": false
   },
   "id": "c053f87880610890"
  },
  {
   "cell_type": "code",
   "outputs": [],
   "source": [
    "all_dataframes = {}\n",
    "for file_name in os.listdir('datasetsRosen'):\n",
    "    if file_name.endswith('.h5'):\n",
    "        file_path = os.path.join('datasetsRosen', file_name)\n",
    "        frame, frame_attrs = readH5.read_hdf5(file_path)\n",
    "        if frame is not None:\n",
    "            all_dataframes[file_name] = (frame, frame_attrs)\n",
    "print(len(all_dataframes))"
   ],
   "metadata": {
    "collapsed": false
   },
   "id": "788b8f3931b61528",
   "execution_count": null
  },
  {
   "cell_type": "code",
   "outputs": [],
   "source": [
    "velocityMissingCount = 0\n",
    "for name, (df, attrs) in all_dataframes.items():\n",
    "    if not hasattr(df, 'velocity'):\n",
    "       velocityMissingCount += 1\n",
    "    else: \n",
    "        print(f\"{name}: DataFrame Shape: {df.shape}, Attributes: {attrs}\")\n",
    "        print(\"First 5 lines of the columns:\")\n",
    "        # print(df[['velocity', 'defect_channel', 'distance', 'magnetization', 'timestamp', 'wall_thickness']].head())\n",
    "        print(df.head())\n",
    "        print(\"\\n\")\n",
    "print(f'Fehlende Velocity Werte: {velocityMissingCount}')"
   ],
   "metadata": {
    "collapsed": false
   },
   "id": "b73113246ad3b2ec",
   "execution_count": null
  },
  {
   "cell_type": "markdown",
   "source": [
    "# Datenüberprüfung\n",
    "\n",
    "## Welche Konfigurationen und Instrumente gibt es in den Datensätzen?"
   ],
   "metadata": {
    "collapsed": false
   },
   "id": "808cf18da2eecff"
  },
  {
   "cell_type": "code",
   "outputs": [],
   "source": [
    "confs_directory = 'datasetsRosen'\n",
    "configurations = []\n",
    "instruments = []\n",
    "configAmount = 0\n",
    "instAmount = 0\n",
    "\n",
    "for idx, filename in enumerate(os.listdir(confs_directory)):\n",
    "    file = h5py.File(confs_directory + '/' + filename)\n",
    "    if 'data' in file:\n",
    "        configName = file['data'].attrs['configuration']\n",
    "        if file['data'].attrs['configuration']:\n",
    "            configAmount += 1\n",
    "        instrumentName = file['data'].attrs['instrument']\n",
    "        if file['data'].attrs['instrument']:\n",
    "            instAmount += 1\n",
    "        if all(configName not in x for x in configurations):\n",
    "            configurations.append(configName)\n",
    "        if all(instrumentName not in x for x in instruments):\n",
    "            instruments.append(instrumentName)\n",
    "    if 'Daten' in file:\n",
    "        configName = file['Daten'].attrs['configuration']\n",
    "        if file['Daten'].attrs['configuration']:\n",
    "            configAmount += 1\n",
    "        instrumentName = file['Daten'].attrs['instrument']\n",
    "        if file['Daten'].attrs['instrument']:\n",
    "            instAmount += 1\n",
    "        if all(configName not in x for x in configurations):\n",
    "            configurations.append(configName)\n",
    "        if all(instrumentName not in x for x in instruments):\n",
    "            instruments.append(instrumentName)\n",
    "\n",
    "print(f'Menge an Configurations: {configAmount}')\n",
    "print('Configurations: ', configurations)\n",
    "print(f'Menge an Instruments: {instAmount}')\n",
    "print('Instruments: ', instruments)"
   ],
   "metadata": {
    "collapsed": false
   },
   "id": "7a2895e8f00f5b23",
   "execution_count": null
  },
  {
   "cell_type": "markdown",
   "source": [
    "## Wie viele falsche / fehlende Datensätze gibt es?\n",
    "\n",
    "Prüft auf: \n",
    "    Negative Werte,\n",
    "    Fehlende Datensätze / Falsche Key Bezeichnung"
   ],
   "metadata": {
    "collapsed": false
   },
   "id": "d1562b845253cd3f"
  },
  {
   "cell_type": "code",
   "outputs": [],
   "source": [
    "directory = 'datasetsRosen'\n",
    "datasets = []\n",
    "\n",
    "for filename in os.listdir(directory):\n",
    "    file = h5py.File(directory + '/' + filename)\n",
    "    for key in file.keys():\n",
    "        datasets.append(file[key])\n",
    "\n",
    "print(f'{len(datasets)} Datensätze erfolgreich in datasets-Array eingelesen')\n",
    "\n",
    "\n",
    "# defect_channel, distance, magnetization, timestamp, velocity, wall_thickness\n",
    "attribute = (\"distance\"\n",
    "             \"\") # attribute ersetzen um verschiedene Attribute zu testen\n",
    "count_negativeValue = 0\n",
    "negativeValuesIdx = []\n",
    "count_noDataset = 0\n",
    "noDatasetIdx = []\n",
    "eastereggCount = 0\n",
    "\n",
    "for idx, dataset in enumerate(datasets):\n",
    "    # print(dataset[attribute][...])\n",
    "    if attribute in dataset:\n",
    "        if b'Easteregg :)' not in dataset[attribute][...]:\n",
    "            velocity_data = dataset[attribute][...].astype(float)\n",
    "            if (velocity_data < 0).any():\n",
    "                count_negativeValue += 1\n",
    "                negativeValuesIdx.append(idx)\n",
    "        else:\n",
    "            eastereggCount += 1\n",
    "    else:\n",
    "        count_noDataset += 1\n",
    "        noDatasetIdx.append(idx)\n",
    "        \n",
    "print(f\"---------------------------------------------- {attribute} Analyse ----------------------------------------------\")\n",
    "print(f\"Anzahl negative Werte: {count_negativeValue}\\n Indizes: {negativeValuesIdx}\\n\")\n",
    "print(f\"Anzahl fehlender {attribute} Datensätze: {count_noDataset}\\n Indizes: {noDatasetIdx}\")\n",
    "print(\"--------------------------------------------------------------------------------------------------------------\")\n",
    "print(f\"Anzahl Eastereggs: {eastereggCount}\")\n",
    "print(datasets[242].keys())"
   ],
   "metadata": {
    "collapsed": false
   },
   "id": "6309c04332ea3cb",
   "execution_count": null
  },
  {
   "cell_type": "code",
   "outputs": [],
   "source": [
    "influx_dataframes = influxServices.download_all_dataframes('')\n",
    "\n",
    "import seaborn as sns\n",
    "import matplotlib.pyplot as plt\n",
    "\n",
    "# influx_dataframes = filterEasterEggs(influx_dataframes)\n",
    "\n",
    "# Daten sammeln\n",
    "magnetization_values = []\n",
    "wall_thickness_values = []\n",
    "\n",
    "for name, (df, attrs) in influx_dataframes.items():\n",
    "    if 'magnetization' in df.columns and 'wall_thickness' in df.columns:\n",
    "        nan_magnetization = df.loc[df['magnetization'].isnull(), 'magnetization']\n",
    "        nan_wall_thickness = df.loc[df['wall_thickness'].isnull(), 'wall_thickness']\n",
    "\n",
    "        if not nan_magnetization.empty:\n",
    "            print(f\"NaN in Magnetization in DataFrame {name}: {nan_magnetization}\")\n",
    "        if not nan_wall_thickness.empty:\n",
    "            print(f\"NaN in wall_thickness in DataFrame {name}: {nan_wall_thickness}\")\n",
    "\n",
    "        # Entferne NaN-Werte, bevor du die Werte der Listen hinzufügst\n",
    "        magnetization_values.extend(df['magnetization'].dropna())\n",
    "        wall_thickness_values.extend(df['wall_thickness'].dropna())\n",
    "\n",
    "# DataFrame erstellen\n",
    "data = {'magnetization': magnetization_values, 'wall_thickness': wall_thickness_values}\n",
    "merged_df = pd.DataFrame(data, dtype=np.float64)\n",
    "\n",
    "# Seaborn-Plot erstellen\n",
    "sns.scatterplot(x='wall_thickness', y='magnetization', data=merged_df)\n",
    "plt.title('Magnetization vs. Wall Thickness')\n",
    "plt.show()"
   ],
   "metadata": {
    "collapsed": false
   },
   "id": "ffa869f778086c03"
  }
 ],
 "metadata": {
  "kernelspec": {
   "display_name": "Python 3",
   "language": "python",
   "name": "python3"
  },
  "language_info": {
   "codemirror_mode": {
    "name": "ipython",
    "version": 2
   },
   "file_extension": ".py",
   "mimetype": "text/x-python",
   "name": "python",
   "nbconvert_exporter": "python",
   "pygments_lexer": "ipython2",
   "version": "2.7.6"
  }
 },
 "nbformat": 4,
 "nbformat_minor": 5
}
