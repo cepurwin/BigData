{
 "cells": [
  {
   "cell_type": "markdown",
   "source": [
    "## Imports"
   ],
   "metadata": {
    "collapsed": false
   },
   "id": "2c7d2fe129213afc"
  },
  {
   "cell_type": "code",
   "execution_count": 1,
   "id": "initial_id",
   "metadata": {
    "collapsed": true,
    "ExecuteTime": {
     "end_time": "2024-02-14T16:15:17.265086200Z",
     "start_time": "2024-02-14T16:15:09.042736800Z"
    }
   },
   "outputs": [],
   "source": [
    "import H5toDataframe as readH5\n",
    "import influxdb_client as influx\n",
    "from influxdb_client.client.write_api import SYNCHRONOUS\n",
    "import conversionServices as ConvServ\n",
    "import datetime as dt"
   ]
  },
  {
   "cell_type": "markdown",
   "source": [
    "## API configuration"
   ],
   "metadata": {
    "collapsed": false
   },
   "id": "abe1a391fa7e0c57"
  },
  {
   "cell_type": "code",
   "outputs": [],
   "source": [
    "bucket = \"8bfb0bbb9e31d01a\" #test5\n",
    "org = \"H493f0c3e5bf84239\"\n",
    "token = \"giJmgHGcBaEt8LvH1kZbfpwrNU3_eYDg32MXqbfkZNyuJHxfyOHTFAyYBsOs7M2s-WKRneuGu849FTT3CNdCHg==\"\n",
    "# Store the URL of your InfluxDB instance\n",
    "url=\"https://westeurope-1.azure.cloud2.influxdata.com/\"\n",
    "\n",
    "client = influx.InfluxDBClient(\n",
    "    url=url,\n",
    "    token=token,\n",
    "    org=org\n",
    ")\n",
    "\n",
    "write_api = client.write_api(write_options=influx.client.write_api.SYNCHRONOUS)"
   ],
   "metadata": {
    "collapsed": false,
    "ExecuteTime": {
     "end_time": "2024-02-14T16:15:23.386760Z",
     "start_time": "2024-02-14T16:15:23.240144700Z"
    }
   },
   "id": "af5417c1f7f867d9",
   "execution_count": 2
  },
  {
   "cell_type": "markdown",
   "source": [
    "## Read data from HDF5"
   ],
   "metadata": {
    "collapsed": false
   },
   "id": "129b02df9f2cdcc0"
  },
  {
   "cell_type": "code",
   "outputs": [
    {
     "name": "stdout",
     "output_type": "stream",
     "text": [
      "unsupported operand type(s) for -: 'numpy.bytes_' and 'numpy.bytes_'\n",
      "unsupported operand type(s) for -: 'numpy.bytes_' and 'numpy.bytes_'\n",
      "unsupported operand type(s) for -: 'numpy.bytes_' and 'numpy.bytes_'\n",
      "unsupported operand type(s) for -: 'numpy.bytes_' and 'numpy.bytes_'\n",
      "ufunc 'true_divide' not supported for the input types, and the inputs could not be safely coerced to any supported types according to the casting rule ''safe''\n",
      "unsupported operand type(s) for -: 'numpy.bytes_' and 'numpy.bytes_'\n",
      "unsupported operand type(s) for -: 'numpy.bytes_' and 'numpy.bytes_'\n"
     ]
    }
   ],
   "source": [
    "df = readH5.convertAllH5Files()"
   ],
   "metadata": {
    "collapsed": false,
    "ExecuteTime": {
     "end_time": "2024-02-14T16:16:22.179607300Z",
     "start_time": "2024-02-14T16:15:24.258456700Z"
    }
   },
   "id": "895d0054373753c9",
   "execution_count": 3
  },
  {
   "cell_type": "code",
   "outputs": [],
   "source": [
    "# Query script\n",
    "query_api = client.query_api()\n",
    "query = ('from(bucket:\"test5\")\\\n",
    "|> range(start: 0)\\\n",
    "|> pivot(rowKey: [\"_time\"], columnKey: [\"_field\"], valueColumn: \"_value\")')\n",
    "\n",
    "result = query_api.query(org=org, query=query)\n",
    "# results = []\n",
    "# for table in result:\n",
    "#     for record in table.records:\n",
    "#         results.append((record.get_field(), record.get_value()))\n",
    "        # print(record)\n",
    "\n",
    "print(result)\n"
   ],
   "metadata": {
    "collapsed": false
   },
   "id": "c21100f3c986aa8e",
   "execution_count": null
  },
  {
   "cell_type": "code",
   "outputs": [
    {
     "ename": "ValueError",
     "evalue": "Type: \"<class 'bytes'>\" of field: \"magnetization\" is not supported.",
     "output_type": "error",
     "traceback": [
      "\u001B[1;31m---------------------------------------------------------------------------\u001B[0m",
      "\u001B[1;31mValueError\u001B[0m                                Traceback (most recent call last)",
      "\u001B[1;32m<ipython-input-8-13a52f130d44>\u001B[0m in \u001B[0;36m<module>\u001B[1;34m\u001B[0m\n\u001B[0;32m     22\u001B[0m         \u001B[0mpoints\u001B[0m\u001B[1;33m.\u001B[0m\u001B[0mappend\u001B[0m\u001B[1;33m(\u001B[0m\u001B[0mp\u001B[0m\u001B[1;33m)\u001B[0m\u001B[1;33m\u001B[0m\u001B[1;33m\u001B[0m\u001B[0m\n\u001B[0;32m     23\u001B[0m \u001B[1;33m\u001B[0m\u001B[0m\n\u001B[1;32m---> 24\u001B[1;33m     \u001B[0mwrite_api\u001B[0m\u001B[1;33m.\u001B[0m\u001B[0mwrite\u001B[0m\u001B[1;33m(\u001B[0m\u001B[0mbucket\u001B[0m\u001B[1;33m=\u001B[0m\u001B[0mbucket\u001B[0m\u001B[1;33m,\u001B[0m \u001B[0morg\u001B[0m\u001B[1;33m=\u001B[0m\u001B[0morg\u001B[0m\u001B[1;33m,\u001B[0m \u001B[0mrecord\u001B[0m\u001B[1;33m=\u001B[0m\u001B[0mpoints\u001B[0m\u001B[1;33m)\u001B[0m\u001B[1;33m\u001B[0m\u001B[1;33m\u001B[0m\u001B[0m\n\u001B[0m",
      "\u001B[1;32m~\\IdeaProjects\\DickeDaten\\venv\\lib\\site-packages\\influxdb_client\\client\\write_api.py\u001B[0m in \u001B[0;36mwrite\u001B[1;34m(self, bucket, org, record, write_precision, **kwargs)\u001B[0m\n\u001B[0;32m    355\u001B[0m \u001B[1;33m\u001B[0m\u001B[0m\n\u001B[0;32m    356\u001B[0m         \u001B[0mpayloads\u001B[0m \u001B[1;33m=\u001B[0m \u001B[0mdefaultdict\u001B[0m\u001B[1;33m(\u001B[0m\u001B[0mlist\u001B[0m\u001B[1;33m)\u001B[0m\u001B[1;33m\u001B[0m\u001B[1;33m\u001B[0m\u001B[0m\n\u001B[1;32m--> 357\u001B[1;33m         \u001B[0mself\u001B[0m\u001B[1;33m.\u001B[0m\u001B[0m_serialize\u001B[0m\u001B[1;33m(\u001B[0m\u001B[0mrecord\u001B[0m\u001B[1;33m,\u001B[0m \u001B[0mwrite_precision\u001B[0m\u001B[1;33m,\u001B[0m \u001B[0mpayloads\u001B[0m\u001B[1;33m,\u001B[0m \u001B[1;33m**\u001B[0m\u001B[0mkwargs\u001B[0m\u001B[1;33m)\u001B[0m\u001B[1;33m\u001B[0m\u001B[1;33m\u001B[0m\u001B[0m\n\u001B[0m\u001B[0;32m    358\u001B[0m \u001B[1;33m\u001B[0m\u001B[0m\n\u001B[0;32m    359\u001B[0m         \u001B[0m_async_req\u001B[0m \u001B[1;33m=\u001B[0m \u001B[1;32mTrue\u001B[0m \u001B[1;32mif\u001B[0m \u001B[0mself\u001B[0m\u001B[1;33m.\u001B[0m\u001B[0m_write_options\u001B[0m\u001B[1;33m.\u001B[0m\u001B[0mwrite_type\u001B[0m \u001B[1;33m==\u001B[0m \u001B[0mWriteType\u001B[0m\u001B[1;33m.\u001B[0m\u001B[0masynchronous\u001B[0m \u001B[1;32melse\u001B[0m \u001B[1;32mFalse\u001B[0m\u001B[1;33m\u001B[0m\u001B[1;33m\u001B[0m\u001B[0m\n",
      "\u001B[1;32m~\\IdeaProjects\\DickeDaten\\venv\\lib\\site-packages\\influxdb_client\\client\\_base.py\u001B[0m in \u001B[0;36m_serialize\u001B[1;34m(self, record, write_precision, payload, **kwargs)\u001B[0m\n\u001B[0;32m    470\u001B[0m         \u001B[1;32melif\u001B[0m \u001B[0misinstance\u001B[0m\u001B[1;33m(\u001B[0m\u001B[0mrecord\u001B[0m\u001B[1;33m,\u001B[0m \u001B[0mIterable\u001B[0m\u001B[1;33m)\u001B[0m\u001B[1;33m:\u001B[0m\u001B[1;33m\u001B[0m\u001B[1;33m\u001B[0m\u001B[0m\n\u001B[0;32m    471\u001B[0m             \u001B[1;32mfor\u001B[0m \u001B[0mitem\u001B[0m \u001B[1;32min\u001B[0m \u001B[0mrecord\u001B[0m\u001B[1;33m:\u001B[0m\u001B[1;33m\u001B[0m\u001B[1;33m\u001B[0m\u001B[0m\n\u001B[1;32m--> 472\u001B[1;33m                 \u001B[0mself\u001B[0m\u001B[1;33m.\u001B[0m\u001B[0m_serialize\u001B[0m\u001B[1;33m(\u001B[0m\u001B[0mitem\u001B[0m\u001B[1;33m,\u001B[0m \u001B[0mwrite_precision\u001B[0m\u001B[1;33m,\u001B[0m \u001B[0mpayload\u001B[0m\u001B[1;33m,\u001B[0m \u001B[1;33m**\u001B[0m\u001B[0mkwargs\u001B[0m\u001B[1;33m)\u001B[0m\u001B[1;33m\u001B[0m\u001B[1;33m\u001B[0m\u001B[0m\n\u001B[0m\u001B[0;32m    473\u001B[0m \u001B[1;33m\u001B[0m\u001B[0m\n\u001B[0;32m    474\u001B[0m \u001B[1;33m\u001B[0m\u001B[0m\n",
      "\u001B[1;32m~\\IdeaProjects\\DickeDaten\\venv\\lib\\site-packages\\influxdb_client\\client\\_base.py\u001B[0m in \u001B[0;36m_serialize\u001B[1;34m(self, record, write_precision, payload, **kwargs)\u001B[0m\n\u001B[0;32m    455\u001B[0m             \u001B[0mprecision_from_point\u001B[0m \u001B[1;33m=\u001B[0m \u001B[0mkwargs\u001B[0m\u001B[1;33m.\u001B[0m\u001B[0mget\u001B[0m\u001B[1;33m(\u001B[0m\u001B[1;34m'precision_from_point'\u001B[0m\u001B[1;33m,\u001B[0m \u001B[1;32mTrue\u001B[0m\u001B[1;33m)\u001B[0m\u001B[1;33m\u001B[0m\u001B[1;33m\u001B[0m\u001B[0m\n\u001B[0;32m    456\u001B[0m             \u001B[0mprecision\u001B[0m \u001B[1;33m=\u001B[0m \u001B[0mrecord\u001B[0m\u001B[1;33m.\u001B[0m\u001B[0mwrite_precision\u001B[0m \u001B[1;32mif\u001B[0m \u001B[0mprecision_from_point\u001B[0m \u001B[1;32melse\u001B[0m \u001B[0mwrite_precision\u001B[0m\u001B[1;33m\u001B[0m\u001B[1;33m\u001B[0m\u001B[0m\n\u001B[1;32m--> 457\u001B[1;33m             \u001B[0mself\u001B[0m\u001B[1;33m.\u001B[0m\u001B[0m_serialize\u001B[0m\u001B[1;33m(\u001B[0m\u001B[0mrecord\u001B[0m\u001B[1;33m.\u001B[0m\u001B[0mto_line_protocol\u001B[0m\u001B[1;33m(\u001B[0m\u001B[0mprecision\u001B[0m\u001B[1;33m=\u001B[0m\u001B[0mprecision\u001B[0m\u001B[1;33m)\u001B[0m\u001B[1;33m,\u001B[0m \u001B[0mprecision\u001B[0m\u001B[1;33m,\u001B[0m \u001B[0mpayload\u001B[0m\u001B[1;33m,\u001B[0m \u001B[1;33m**\u001B[0m\u001B[0mkwargs\u001B[0m\u001B[1;33m)\u001B[0m\u001B[1;33m\u001B[0m\u001B[1;33m\u001B[0m\u001B[0m\n\u001B[0m\u001B[0;32m    458\u001B[0m \u001B[1;33m\u001B[0m\u001B[0m\n\u001B[0;32m    459\u001B[0m         \u001B[1;32melif\u001B[0m \u001B[0misinstance\u001B[0m\u001B[1;33m(\u001B[0m\u001B[0mrecord\u001B[0m\u001B[1;33m,\u001B[0m \u001B[0mdict\u001B[0m\u001B[1;33m)\u001B[0m\u001B[1;33m:\u001B[0m\u001B[1;33m\u001B[0m\u001B[1;33m\u001B[0m\u001B[0m\n",
      "\u001B[1;32m~\\IdeaProjects\\DickeDaten\\venv\\lib\\site-packages\\influxdb_client\\client\\write\\point.py\u001B[0m in \u001B[0;36mto_line_protocol\u001B[1;34m(self, precision)\u001B[0m\n\u001B[0;32m    183\u001B[0m         \u001B[0m_measurement\u001B[0m \u001B[1;33m=\u001B[0m \u001B[0m_escape_key\u001B[0m\u001B[1;33m(\u001B[0m\u001B[0mself\u001B[0m\u001B[1;33m.\u001B[0m\u001B[0m_name\u001B[0m\u001B[1;33m,\u001B[0m \u001B[0m_ESCAPE_MEASUREMENT\u001B[0m\u001B[1;33m)\u001B[0m\u001B[1;33m\u001B[0m\u001B[1;33m\u001B[0m\u001B[0m\n\u001B[0;32m    184\u001B[0m         \u001B[0m_tags\u001B[0m \u001B[1;33m=\u001B[0m \u001B[0m_append_tags\u001B[0m\u001B[1;33m(\u001B[0m\u001B[0mself\u001B[0m\u001B[1;33m.\u001B[0m\u001B[0m_tags\u001B[0m\u001B[1;33m)\u001B[0m\u001B[1;33m\u001B[0m\u001B[1;33m\u001B[0m\u001B[0m\n\u001B[1;32m--> 185\u001B[1;33m         \u001B[0m_fields\u001B[0m \u001B[1;33m=\u001B[0m \u001B[0m_append_fields\u001B[0m\u001B[1;33m(\u001B[0m\u001B[0mself\u001B[0m\u001B[1;33m.\u001B[0m\u001B[0m_fields\u001B[0m\u001B[1;33m)\u001B[0m\u001B[1;33m\u001B[0m\u001B[1;33m\u001B[0m\u001B[0m\n\u001B[0m\u001B[0;32m    186\u001B[0m         \u001B[1;32mif\u001B[0m \u001B[1;32mnot\u001B[0m \u001B[0m_fields\u001B[0m\u001B[1;33m:\u001B[0m\u001B[1;33m\u001B[0m\u001B[1;33m\u001B[0m\u001B[0m\n\u001B[0;32m    187\u001B[0m             \u001B[1;32mreturn\u001B[0m \u001B[1;34m\"\"\u001B[0m\u001B[1;33m\u001B[0m\u001B[1;33m\u001B[0m\u001B[0m\n",
      "\u001B[1;32m~\\IdeaProjects\\DickeDaten\\venv\\lib\\site-packages\\influxdb_client\\client\\write\\point.py\u001B[0m in \u001B[0;36m_append_fields\u001B[1;34m(fields)\u001B[0m\n\u001B[0;32m    245\u001B[0m             \u001B[0m_return\u001B[0m\u001B[1;33m.\u001B[0m\u001B[0mappend\u001B[0m\u001B[1;33m(\u001B[0m\u001B[1;34mf'{_escape_key(field)}=\"{_escape_string(value)}\"'\u001B[0m\u001B[1;33m)\u001B[0m\u001B[1;33m\u001B[0m\u001B[1;33m\u001B[0m\u001B[0m\n\u001B[0;32m    246\u001B[0m         \u001B[1;32melse\u001B[0m\u001B[1;33m:\u001B[0m\u001B[1;33m\u001B[0m\u001B[1;33m\u001B[0m\u001B[0m\n\u001B[1;32m--> 247\u001B[1;33m             \u001B[1;32mraise\u001B[0m \u001B[0mValueError\u001B[0m\u001B[1;33m(\u001B[0m\u001B[1;34mf'Type: \"{type(value)}\" of field: \"{field}\" is not supported.'\u001B[0m\u001B[1;33m)\u001B[0m\u001B[1;33m\u001B[0m\u001B[1;33m\u001B[0m\u001B[0m\n\u001B[0m\u001B[0;32m    248\u001B[0m \u001B[1;33m\u001B[0m\u001B[0m\n\u001B[0;32m    249\u001B[0m     \u001B[1;32mreturn\u001B[0m \u001B[1;34mf\"{','.join(_return)}\"\u001B[0m\u001B[1;33m\u001B[0m\u001B[1;33m\u001B[0m\u001B[0m\n",
      "\u001B[1;31mValueError\u001B[0m: Type: \"<class 'bytes'>\" of field: \"magnetization\" is not supported."
     ]
    }
   ],
   "source": [
    "for name, (frame, attrs) in df.items():\n",
    "    year = ConvServ.getYearFromDf(frame) # extract year from timestamp\n",
    "    avg_velo = ConvServ.dataframe_column_average(frame, \"velocity\") # calculate average velocity\n",
    "    points = []\n",
    "\n",
    "    for row in frame.iterrows():\n",
    "\n",
    "        ts = dt.datetime.fromtimestamp(row[1][\"timestamp\"])\n",
    "\n",
    "        p = (influx.Point(name)\n",
    "        .time(ts) # Muss bereits als datetime vorliegen\n",
    "        .tag(\"instrument\", attrs[\"instrument\"])\n",
    "        .tag(\"cofiguration\", attrs[\"configuration\"])\n",
    "        .tag(\"year\", year)\n",
    "        .tag(\"avg_velocity\", avg_velo) \n",
    "        .field(\"defect_channel\", row[1][\"defect_channel\"])\n",
    "        .field(\"distance\", row[1][\"distance\"])\n",
    "        .field(\"magnetization\", row[1][\"magnetization\"])\n",
    "        .field(\"velocity\", row[1][\"velocity\"])\n",
    "        .field(\"wall_thickness\", row[1][\"wall_thickness\"]))\n",
    "        \n",
    "        points.append(p)\n",
    "    \n",
    "    write_api.write(bucket=bucket, org=org, record=points)"
   ],
   "metadata": {
    "collapsed": false,
    "ExecuteTime": {
     "end_time": "2024-02-14T15:14:45.947836500Z",
     "start_time": "2024-02-14T15:14:41.023639700Z"
    }
   },
   "id": "63c186c02df6b82b",
   "execution_count": 8
  }
 ],
 "metadata": {
  "kernelspec": {
   "display_name": "Python 3",
   "language": "python",
   "name": "python3"
  },
  "language_info": {
   "codemirror_mode": {
    "name": "ipython",
    "version": 2
   },
   "file_extension": ".py",
   "mimetype": "text/x-python",
   "name": "python",
   "nbconvert_exporter": "python",
   "pygments_lexer": "ipython2",
   "version": "2.7.6"
  }
 },
 "nbformat": 4,
 "nbformat_minor": 5
}
