{
 "cells": [
  {
   "cell_type": "markdown",
   "source": [
    "## Imports"
   ],
   "metadata": {
    "collapsed": false
   },
   "id": "2c7d2fe129213afc"
  },
  {
   "cell_type": "code",
   "execution_count": 3,
   "id": "initial_id",
   "metadata": {
    "collapsed": true,
    "ExecuteTime": {
     "end_time": "2024-02-17T00:41:13.799602Z",
     "start_time": "2024-02-17T00:41:13.789651600Z"
    }
   },
   "outputs": [],
   "source": [
    "import H5toDataframe as readH5\n",
    "import apiconfiguration as api\n",
    "import influxServices as influxServ"
   ]
  },
  {
   "cell_type": "markdown",
   "source": [
    "## API configuration"
   ],
   "metadata": {
    "collapsed": false
   },
   "id": "abe1a391fa7e0c57"
  },
  {
   "cell_type": "code",
   "outputs": [],
   "source": [
    "write_api = api.get_write_api()\n",
    "query_api = api.get_query_api()"
   ],
   "metadata": {
    "collapsed": false
   },
   "id": "af5417c1f7f867d9",
   "execution_count": null
  },
  {
   "cell_type": "markdown",
   "source": [
    "## Read data from HDF5"
   ],
   "metadata": {
    "collapsed": false
   },
   "id": "129b02df9f2cdcc0"
  },
  {
   "cell_type": "code",
   "outputs": [],
   "source": [
    "df = readH5.convertAllH5Files()"
   ],
   "metadata": {
    "collapsed": false
   },
   "id": "895d0054373753c9",
   "execution_count": null
  },
  {
   "cell_type": "code",
   "outputs": [],
   "source": [
    "# Query script\n",
    "query = (f'from(bucket:\"test5\")\\\n",
    "|> range(start: 0)\\\n",
    "|> pivot(rowKey: [\"_time\"], columnKey: [\"_field\"], valueColumn: \"_value\")')\n",
    "\n",
    "result = query_api.query(org=api.org, query=query)\n",
    "\n",
    "print(len(result))"
   ],
   "metadata": {
    "collapsed": false
   },
   "id": "c21100f3c986aa8e",
   "execution_count": null
  },
  {
   "cell_type": "code",
   "outputs": [],
   "source": [
    "result_dfq = query_api.query_data_frame(org=api.org, query=query)\n",
    "print(result_dfq)"
   ],
   "metadata": {
    "collapsed": false
   },
   "id": "554dcc7947eb6785",
   "execution_count": null
  },
  {
   "cell_type": "code",
   "outputs": [
    {
     "ename": "NameError",
     "evalue": "name 'df' is not defined",
     "output_type": "error",
     "traceback": [
      "\u001B[1;31m---------------------------------------------------------------------------\u001B[0m",
      "\u001B[1;31mNameError\u001B[0m                                 Traceback (most recent call last)",
      "\u001B[1;32m<ipython-input-5-e66d42e35542>\u001B[0m in \u001B[0;36m<module>\u001B[1;34m\u001B[0m\n\u001B[0;32m      1\u001B[0m \u001B[1;31m# Write data to InfluxDB\u001B[0m\u001B[1;33m\u001B[0m\u001B[1;33m\u001B[0m\u001B[1;33m\u001B[0m\u001B[0m\n\u001B[1;32m----> 2\u001B[1;33m \u001B[0minfluxServ\u001B[0m\u001B[1;33m.\u001B[0m\u001B[0mupload_dict_with_frames\u001B[0m\u001B[1;33m(\u001B[0m\u001B[0mdf\u001B[0m\u001B[1;33m,\u001B[0m \u001B[0mwrite_api\u001B[0m\u001B[1;33m)\u001B[0m\u001B[1;33m\u001B[0m\u001B[1;33m\u001B[0m\u001B[0m\n\u001B[0m",
      "\u001B[1;31mNameError\u001B[0m: name 'df' is not defined"
     ]
    }
   ],
   "source": [
    "# Write data to InfluxDB\n",
    "influxServ.upload_dict_with_frames(df, write_api)"
   ],
   "metadata": {
    "collapsed": false,
    "ExecuteTime": {
     "end_time": "2024-02-17T00:43:16.553748100Z",
     "start_time": "2024-02-17T00:43:16.479448900Z"
    }
   },
   "id": "63c186c02df6b82b",
   "execution_count": 5
  }
 ],
 "metadata": {
  "kernelspec": {
   "display_name": "Python 3",
   "language": "python",
   "name": "python3"
  },
  "language_info": {
   "codemirror_mode": {
    "name": "ipython",
    "version": 2
   },
   "file_extension": ".py",
   "mimetype": "text/x-python",
   "name": "python",
   "nbconvert_exporter": "python",
   "pygments_lexer": "ipython2",
   "version": "2.7.6"
  }
 },
 "nbformat": 4,
 "nbformat_minor": 5
}
