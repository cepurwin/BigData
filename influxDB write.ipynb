{
 "cells": [
  {
   "cell_type": "markdown",
   "source": [
    "## Imports"
   ],
   "metadata": {
    "collapsed": false
   },
   "id": "2c7d2fe129213afc"
  },
  {
   "cell_type": "code",
   "execution_count": null,
   "id": "initial_id",
   "metadata": {
    "collapsed": true
   },
   "outputs": [],
   "source": [
    "import H5toDataframe as readH5\n",
    "import influxdb_client as influx\n",
    "from influxdb_client.client.write_api import SYNCHRONOUS\n",
    "import conversionServices as ConvServ\n",
    "import datetime as dt"
   ]
  },
  {
   "cell_type": "markdown",
   "source": [
    "## API configuration"
   ],
   "metadata": {
    "collapsed": false
   },
   "id": "abe1a391fa7e0c57"
  },
  {
   "cell_type": "code",
   "outputs": [],
   "source": [
    "bucket = \"8bfb0bbb9e31d01a\" #test5\n",
    "org = \"H493f0c3e5bf84239\"\n",
    "token = \"giJmgHGcBaEt8LvH1kZbfpwrNU3_eYDg32MXqbfkZNyuJHxfyOHTFAyYBsOs7M2s-WKRneuGu849FTT3CNdCHg==\"\n",
    "# Store the URL of your InfluxDB instance\n",
    "url=\"https://westeurope-1.azure.cloud2.influxdata.com/\"\n",
    "\n",
    "client = influx.InfluxDBClient(\n",
    "    url=url,\n",
    "    token=token,\n",
    "    org=org\n",
    ")\n",
    "\n",
    "write_api = client.write_api(write_options=influx.client.write_api.SYNCHRONOUS)"
   ],
   "metadata": {
    "collapsed": false
   },
   "id": "af5417c1f7f867d9",
   "execution_count": null
  },
  {
   "cell_type": "markdown",
   "source": [
    "## Read data from HDF5"
   ],
   "metadata": {
    "collapsed": false
   },
   "id": "129b02df9f2cdcc0"
  },
  {
   "cell_type": "code",
   "outputs": [],
   "source": [
    "df = readH5.convertAllH5Files()"
   ],
   "metadata": {
    "collapsed": false
   },
   "id": "895d0054373753c9",
   "execution_count": null
  },
  {
   "cell_type": "code",
   "outputs": [],
   "source": [
    "# Query script\n",
    "query_api = client.query_api()\n",
    "query = ('from(bucket:\"test5\")\\\n",
    "|> range(start: 0)\\\n",
    "|> pivot(rowKey: [\"_time\"], columnKey: [\"_field\"], valueColumn: \"_value\")')\n",
    "\n",
    "result = query_api.query(org=org, query=query)\n",
    "# results = []\n",
    "# for table in result:\n",
    "#     for record in table.records:\n",
    "#         results.append((record.get_field(), record.get_value()))\n",
    "        # print(record)\n",
    "\n",
    "print(result)\n"
   ],
   "metadata": {
    "collapsed": false
   },
   "id": "c21100f3c986aa8e",
   "execution_count": null
  },
  {
   "cell_type": "code",
   "outputs": [],
   "source": [
    "for name, (frame, attrs) in df.items():\n",
    "    year = ConvServ.getYearFromDf(frame) # extract year from timestamp\n",
    "    avg_velo = ConvServ.dataframe_column_average(frame, \"velocity\") # calculate average velocity\n",
    "    points = []\n",
    "\n",
    "    for row in frame.iterrows():\n",
    "\n",
    "        ts = dt.datetime.fromtimestamp(row[1][\"timestamp\"])\n",
    "\n",
    "        p = (influx.Point(name)\n",
    "        .time(ts) # Muss bereits als datetime vorliegen\n",
    "        .tag(\"instrument\", attrs[\"instrument\"])\n",
    "        .tag(\"cofiguration\", attrs[\"configuration\"])\n",
    "        .tag(\"year\", year)\n",
    "        .tag(\"avg_velocity\", avg_velo) \n",
    "        .field(\"defect_channel\", row[1][\"defect_channel\"])\n",
    "        .field(\"distance\", row[1][\"distance\"])\n",
    "        .field(\"magnetization\", row[1][\"magnetization\"])\n",
    "        .field(\"velocity\", row[1][\"velocity\"])\n",
    "        .field(\"wall_thickness\", row[1][\"wall_thickness\"]))\n",
    "        \n",
    "        points.append(p)\n",
    "    \n",
    "    write_api.write(bucket=bucket, org=org, record=points)"
   ],
   "metadata": {
    "collapsed": false
   },
   "id": "63c186c02df6b82b",
   "execution_count": null
  }
 ],
 "metadata": {
  "kernelspec": {
   "display_name": "Python 3",
   "language": "python",
   "name": "python3"
  },
  "language_info": {
   "codemirror_mode": {
    "name": "ipython",
    "version": 2
   },
   "file_extension": ".py",
   "mimetype": "text/x-python",
   "name": "python",
   "nbconvert_exporter": "python",
   "pygments_lexer": "ipython2",
   "version": "2.7.6"
  }
 },
 "nbformat": 4,
 "nbformat_minor": 5
}
